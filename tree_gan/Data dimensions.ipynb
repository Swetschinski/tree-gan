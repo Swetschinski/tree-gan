{
 "cells": [
  {
   "cell_type": "code",
   "execution_count": 2,
   "metadata": {},
   "outputs": [],
   "source": [
    "import numpy as np"
   ]
  },
  {
   "cell_type": "code",
   "execution_count": 4,
   "metadata": {},
   "outputs": [
    {
     "name": "stdout",
     "output_type": "stream",
     "text": [
      "README.md                    \u001b[31mlosses.py\u001b[m\u001b[m*\r\n",
      "Untitled.ipynb               model-training.ipynb\r\n",
      "create_cropped_imgs_acdc.py  \u001b[31mmodels.py\u001b[m\u001b[m*\r\n",
      "\u001b[1m\u001b[36mdata\u001b[m\u001b[m/                        preprocessing.ipynb\r\n",
      "\u001b[1m\u001b[36mdata_aug_seg\u001b[m\u001b[m/                requirements.txt\r\n",
      "\u001b[31mdataloaders.py\u001b[m\u001b[m*              test.txt\r\n",
      "\u001b[1m\u001b[36mexperiment_init\u001b[m\u001b[m/             \u001b[1m\u001b[36mtrain_model\u001b[m\u001b[m/\r\n",
      "\u001b[31mf1_utils.py\u001b[m\u001b[m*                 \u001b[31mutils.py\u001b[m\u001b[m*\r\n",
      "\u001b[31mlayers_bn.py\u001b[m\u001b[m*\r\n"
     ]
    }
   ],
   "source": [
    "%ls\n"
   ]
  },
  {
   "cell_type": "code",
   "execution_count": 7,
   "metadata": {
    "scrolled": true
   },
   "outputs": [],
   "source": [
    "lab_x_mini = np.load('data/gan_processed_data/lab_x_mini.npy')\n",
    "lab_y_mini = np.load('data/gan_processed_data/lab_y_mini.npy')\n",
    "unlab_x_mini = np.load('data/gan_processed_data/unlab_x_mini.npy')"
   ]
  },
  {
   "cell_type": "code",
   "execution_count": 8,
   "metadata": {},
   "outputs": [
    {
     "name": "stdout",
     "output_type": "stream",
     "text": [
      "(5, 24, 16, 16, 16)\n",
      "(5, 14, 14)\n",
      "(10, 24, 16, 16, 16)\n"
     ]
    }
   ],
   "source": [
    "print(lab_x_mini.shape)\n",
    "print(lab_y_mini.shape)\n",
    "print(unlab_x_mini.shape)"
   ]
  },
  {
   "cell_type": "markdown",
   "metadata": {},
   "source": [
    "- I think we will have to use a single time step!\n",
    "    - subset and save"
   ]
  },
  {
   "cell_type": "code",
   "execution_count": null,
   "metadata": {},
   "outputs": [],
   "source": []
  },
  {
   "cell_type": "code",
   "execution_count": null,
   "metadata": {},
   "outputs": [],
   "source": []
  },
  {
   "cell_type": "code",
   "execution_count": null,
   "metadata": {},
   "outputs": [],
   "source": []
  }
 ],
 "metadata": {
  "kernelspec": {
   "display_name": "Python 3",
   "language": "python",
   "name": "python3"
  },
  "language_info": {
   "codemirror_mode": {
    "name": "ipython",
    "version": 3
   },
   "file_extension": ".py",
   "mimetype": "text/x-python",
   "name": "python",
   "nbconvert_exporter": "python",
   "pygments_lexer": "ipython3",
   "version": "3.7.4"
  }
 },
 "nbformat": 4,
 "nbformat_minor": 2
}
