{
 "cells": [
  {
   "cell_type": "markdown",
   "metadata": {},
   "source": [
    "# Data exploration and cleaning"
   ]
  },
  {
   "cell_type": "code",
   "execution_count": 1,
   "metadata": {},
   "outputs": [],
   "source": [
    "import numpy as np\n",
    "import matplotlib.pyplot as plt\n",
    "import matplotlib.gridspec as gridspec\n",
    "import time\n",
    "from IPython.display import clear_output"
   ]
  },
  {
   "cell_type": "code",
   "execution_count": 36,
   "metadata": {},
   "outputs": [],
   "source": [
    "test_data_og = np.load('../../gcp/test-processed/test_x_l2a_processed.npy')\n",
    "test_labels_og = np.load('../../gcp/test-processed/test_y_l2a_processed.npy')\n",
    "test_length = np.load('../../gcp/test-processed/test_length_l2a_processed.npy')\n",
    "train_data_og = np.load('../../gcp/train-processed/data_x_l2a_processed.npy')\n",
    "train_labels_og= np.load('../../gcp/train-processed/data_y_l2a_processed.npy')\n",
    "train_length = np.load('../../gcp/train-processed/length_l2a_processed.npy')"
   ]
  },
  {
   "cell_type": "code",
   "execution_count": 37,
   "metadata": {},
   "outputs": [
    {
     "data": {
      "text/plain": [
       "(684, 24, 16, 16, 17)"
      ]
     },
     "execution_count": 37,
     "metadata": {},
     "output_type": "execute_result"
    }
   ],
   "source": [
    "# The X data channels are as below:\n",
    "# [B02,B03,B04,B05,B06,B07, B08, B8A,B11,B12, SLOPE, EVI, MSAVI2, Bare soil index, Sentinel 1 VV, Sentinel 1 VH]\n",
    "\n",
    "test_data_og.shape"
   ]
  },
  {
   "cell_type": "markdown",
   "metadata": {},
   "source": [
    "## Exploratory visualization the different bands "
   ]
  },
  {
   "cell_type": "markdown",
   "metadata": {},
   "source": [
    "### Cleaning up the data"
   ]
  },
  {
   "cell_type": "markdown",
   "metadata": {},
   "source": [
    "**Removing erroneous column 14**"
   ]
  },
  {
   "cell_type": "code",
   "execution_count": 38,
   "metadata": {},
   "outputs": [
    {
     "name": "stdout",
     "output_type": "stream",
     "text": [
      "Frequency of unique values of the said array:\n",
      "[[      0       1]\n",
      " [4201728     768]]\n"
     ]
    }
   ],
   "source": [
    "# column 14 contains NaN-s\n",
    "nan = np.isnan(test_data_og[:,:,:,:,14])\n",
    "\n",
    "unique_elements, counts_elements = np.unique(nan, return_counts=True)\n",
    "print(\"Frequency of unique values of the said array:\")\n",
    "print(np.asarray((unique_elements, counts_elements)))"
   ]
  },
  {
   "cell_type": "code",
   "execution_count": 39,
   "metadata": {},
   "outputs": [],
   "source": [
    "# removing column 14 as it has NaN-s\n",
    "test_data2 = np.delete(test_data_og,14, axis = 4)\n",
    "train_data2 = np.delete(train_data_og,14, axis = 4)"
   ]
  },
  {
   "cell_type": "code",
   "execution_count": 40,
   "metadata": {
    "scrolled": false
   },
   "outputs": [
    {
     "data": {
      "text/plain": [
       "(4383, 24, 16, 16, 16)"
      ]
     },
     "execution_count": 40,
     "metadata": {},
     "output_type": "execute_result"
    }
   ],
   "source": [
    "train_data2.shape"
   ]
  },
  {
   "cell_type": "code",
   "execution_count": 41,
   "metadata": {},
   "outputs": [
    {
     "name": "stdout",
     "output_type": "stream",
     "text": [
      "Frequency of unique values of the said array:\n",
      "[[      0]\n",
      " [4202496]]\n"
     ]
    }
   ],
   "source": [
    "nan = np.isnan(test_data2[:,:,:,:,14])\n",
    "\n",
    "unique_elements, counts_elements = np.unique(nan, return_counts=True)\n",
    "print(\"Frequency of unique values of the said array:\")\n",
    "print(np.asarray((unique_elements, counts_elements)))"
   ]
  },
  {
   "cell_type": "markdown",
   "metadata": {},
   "source": [
    "**Normalize data [x_norm = (x - min) / (max - min)]**"
   ]
  },
  {
   "cell_type": "code",
   "execution_count": 42,
   "metadata": {},
   "outputs": [],
   "source": [
    "data = np.concatenate((train_data2, test_data2), axis = 0)\n",
    "\n",
    "# calculating the minimums and the max-min by column \n",
    "minarray = np.min(data[:, :, :, :, :], axis = (0,1,2,3))\n",
    "max_min_array = np.max(data[:, :, :, :, :], axis = (0,1,2,3)) - np.min(data[:, :, :, :, :], axis = (0,1,2,3))\n",
    "\n",
    "train_data3 = (train_data2 - np.tile(minarray, 4383*24*16*16).reshape(4383,24,16,16,16)) / np.tile(max_min_array, 4383*24*16*16).reshape(4383,24,16,16,16)\n",
    "test_data3 = (test_data2 - np.tile(minarray, 684*24*16*16).reshape(684,24,16,16,16)) / np.tile(max_min_array, 684*24*16*16).reshape(684,24,16,16,16)"
   ]
  },
  {
   "cell_type": "code",
   "execution_count": 43,
   "metadata": {},
   "outputs": [
    {
     "name": "stdout",
     "output_type": "stream",
     "text": [
      "Min value of all variables is 0: False\n",
      "Max value of all variables is 1: False\n"
     ]
    }
   ],
   "source": [
    "# Check if data is normalized\n",
    "print(\"Min value of all variables is 0:\", (np.min(train_data3[:,:,:,:,:], axis=(0,1,2,3)) == 0).all())\n",
    "print(\"Max value of all variables is 1:\", (np.max(train_data3[:,:,:,:,:], axis=(0,1,2,3)) == 1).all())"
   ]
  },
  {
   "cell_type": "markdown",
   "metadata": {},
   "source": [
    "# ???\n",
    "Why are two bands not normalizing correctly?"
   ]
  },
  {
   "cell_type": "code",
   "execution_count": 44,
   "metadata": {},
   "outputs": [
    {
     "data": {
      "text/plain": [
       "array([1.       , 1.       , 1.       , 1.       , 1.       , 1.       ,\n",
       "       0.9537339, 0.864469 , 1.       , 1.       , 1.       , 1.       ,\n",
       "       1.       , 1.       , 1.       , 1.       ], dtype=float32)"
      ]
     },
     "execution_count": 44,
     "metadata": {},
     "output_type": "execute_result"
    }
   ],
   "source": [
    "np.max(train_data3[:,:,:,:,:], axis=(0,1,2,3))\n"
   ]
  },
  {
   "cell_type": "code",
   "execution_count": 48,
   "metadata": {},
   "outputs": [
    {
     "data": {
      "text/plain": [
       "array([0.        , 0.        , 0.        , 0.        , 0.        ,\n",
       "       0.        , 0.        , 0.        , 0.03773958, 0.01146612,\n",
       "       0.        , 0.        , 0.        , 0.        , 0.        ,\n",
       "       0.        ], dtype=float32)"
      ]
     },
     "execution_count": 48,
     "metadata": {},
     "output_type": "execute_result"
    }
   ],
   "source": [
    "np.min(train_data3[:,:,:,:,:], axis=(0,1,2,3))"
   ]
  },
  {
   "cell_type": "markdown",
   "metadata": {},
   "source": [
    "**Simplifying to a single time dimension**"
   ]
  },
  {
   "cell_type": "code",
   "execution_count": 45,
   "metadata": {},
   "outputs": [
    {
     "data": {
      "text/plain": [
       "(4383, 16, 16, 16)"
      ]
     },
     "execution_count": 45,
     "metadata": {},
     "output_type": "execute_result"
    }
   ],
   "source": [
    "train_data4 = train_data3[:,22,:,:,:]\n",
    "train_data4.shape"
   ]
  },
  {
   "cell_type": "code",
   "execution_count": 46,
   "metadata": {},
   "outputs": [
    {
     "data": {
      "text/plain": [
       "(684, 16, 16, 16)"
      ]
     },
     "execution_count": 46,
     "metadata": {},
     "output_type": "execute_result"
    }
   ],
   "source": [
    "test_data4 = test_data3[:,22,:,:,:]\n",
    "test_data4.shape"
   ]
  },
  {
   "cell_type": "code",
   "execution_count": 47,
   "metadata": {},
   "outputs": [],
   "source": [
    "# setting it to the original name\n",
    "train_data = train_data4\n",
    "test_data = test_data4"
   ]
  },
  {
   "cell_type": "code",
   "execution_count": 51,
   "metadata": {},
   "outputs": [
    {
     "data": {
      "text/plain": [
       "(684,)"
      ]
     },
     "execution_count": 51,
     "metadata": {},
     "output_type": "execute_result"
    }
   ],
   "source": [
    "test_labels_og.shape\n",
    "test_length.shape"
   ]
  },
  {
   "cell_type": "markdown",
   "metadata": {},
   "source": [
    "### Exporting the cleaned data for use in other notebooks"
   ]
  },
  {
   "cell_type": "code",
   "execution_count": 52,
   "metadata": {},
   "outputs": [],
   "source": [
    "# exporting the version that still has all the time dimension so we can use it for more advanced network structures\n",
    "np.save(\"../../gcp/train-processed/train_x_l2a_cleaned_norm.npy\", train_data3)\n",
    "np.save(\"../../gcp/test-processed/test_x_l2a_cleaned_norm.npy\", test_data3)"
   ]
  },
  {
   "cell_type": "code",
   "execution_count": null,
   "metadata": {},
   "outputs": [],
   "source": []
  }
 ],
 "metadata": {
  "kernelspec": {
   "display_name": "Python 3",
   "language": "python",
   "name": "python3"
  },
  "language_info": {
   "codemirror_mode": {
    "name": "ipython",
    "version": 3
   },
   "file_extension": ".py",
   "mimetype": "text/x-python",
   "name": "python",
   "nbconvert_exporter": "python",
   "pygments_lexer": "ipython3",
   "version": "3.7.4"
  }
 },
 "nbformat": 4,
 "nbformat_minor": 2
}
