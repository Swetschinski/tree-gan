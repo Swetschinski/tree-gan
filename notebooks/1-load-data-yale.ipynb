{
 "cells": [
  {
   "cell_type": "markdown",
   "metadata": {
    "colab_type": "text",
    "id": "0KaKniKAgQrL"
   },
   "source": [
    "# Start here if working in Colab"
   ]
  },
  {
   "cell_type": "code",
   "execution_count": 120,
   "metadata": {
    "colab": {
     "base_uri": "https://localhost:8080/",
     "height": 34
    },
    "colab_type": "code",
    "collapsed": true,
    "executionInfo": {
     "elapsed": 424,
     "status": "ok",
     "timestamp": 1585793193178,
     "user": {
      "displayName": "David Paolella",
      "photoUrl": "https://lh3.googleusercontent.com/a-/AOh14GhyvQ2T2w5gaFLerdln3UycYDOGbTDuyWch0kmG=s64",
      "userId": "06299863553633725725"
     },
     "user_tz": 240
    },
    "id": "OVUplr8ocxt_",
    "outputId": "0521aeb0-56ad-49d8-f455-3f00c01193e9"
   },
   "outputs": [
    {
     "ename": "ModuleNotFoundError",
     "evalue": "No module named 'google.colab'",
     "output_type": "error",
     "traceback": [
      "\u001b[0;31m---------------------------------------------------------------------------\u001b[0m",
      "\u001b[0;31mModuleNotFoundError\u001b[0m                       Traceback (most recent call last)",
      "\u001b[0;32m<ipython-input-120-3ad24d5ec997>\u001b[0m in \u001b[0;36m<module>\u001b[0;34m\u001b[0m\n\u001b[1;32m      1\u001b[0m \u001b[0;31m# Mount Google Drive\u001b[0m\u001b[0;34m\u001b[0m\u001b[0;34m\u001b[0m\u001b[0;34m\u001b[0m\u001b[0m\n\u001b[0;32m----> 2\u001b[0;31m \u001b[0;32mfrom\u001b[0m \u001b[0mgoogle\u001b[0m\u001b[0;34m.\u001b[0m\u001b[0mcolab\u001b[0m \u001b[0;32mimport\u001b[0m \u001b[0mdrive\u001b[0m \u001b[0;31m# import drive from google colab\u001b[0m\u001b[0;34m\u001b[0m\u001b[0;34m\u001b[0m\u001b[0m\n\u001b[0m\u001b[1;32m      3\u001b[0m \u001b[0;34m\u001b[0m\u001b[0m\n\u001b[1;32m      4\u001b[0m \u001b[0mROOT\u001b[0m \u001b[0;34m=\u001b[0m \u001b[0;34m\"/content/drive\"\u001b[0m     \u001b[0;31m# default location for the drive\u001b[0m\u001b[0;34m\u001b[0m\u001b[0;34m\u001b[0m\u001b[0m\n\u001b[1;32m      5\u001b[0m \u001b[0;34m\u001b[0m\u001b[0m\n",
      "\u001b[0;31mModuleNotFoundError\u001b[0m: No module named 'google.colab'"
     ]
    }
   ],
   "source": [
    "# Mount Google Drive\n",
    "from google.colab import drive # import drive from google colab\n",
    "\n",
    "ROOT = \"/content/drive\"     # default location for the drive\n",
    "\n",
    "drive.mount(ROOT)           # we mount the google drive at /content/drive"
   ]
  },
  {
   "cell_type": "code",
   "execution_count": 20,
   "metadata": {
    "colab": {
     "base_uri": "https://localhost:8080/",
     "height": 34
    },
    "colab_type": "code",
    "executionInfo": {
     "elapsed": 367,
     "status": "ok",
     "timestamp": 1585793195391,
     "user": {
      "displayName": "David Paolella",
      "photoUrl": "https://lh3.googleusercontent.com/a-/AOh14GhyvQ2T2w5gaFLerdln3UycYDOGbTDuyWch0kmG=s64",
      "userId": "06299863553633725725"
     },
     "user_tz": 240
    },
    "id": "EaDwqC7QeFsH",
    "outputId": "e3c4f6bb-bdb2-4843-8d3d-c50749fb1536"
   },
   "outputs": [
    {
     "name": "stdout",
     "output_type": "stream",
     "text": [
      "/content/drive/My Drive/restoration-mapper\n"
     ]
    }
   ],
   "source": [
    "# Set working directory\n",
    "%cd /content/drive/My Drive/restoration-mapper"
   ]
  },
  {
   "cell_type": "markdown",
   "metadata": {
    "colab_type": "text",
    "id": "JXnAjC-mgcMe"
   },
   "source": [
    "# Start here if working locally"
   ]
  },
  {
   "cell_type": "code",
   "execution_count": 19,
   "metadata": {
    "colab": {},
    "colab_type": "code",
    "id": "4PPyAQ8QcxuM"
   },
   "outputs": [],
   "source": [
    "from tqdm import tqdm_notebook, tnrange\n",
    "import numpy as np\n",
    "from random import shuffle\n",
    "import pandas as pd\n",
    "import os\n",
    "import random"
   ]
  },
  {
   "cell_type": "markdown",
   "metadata": {
    "colab_type": "text",
    "id": "ipQlldfIcxuX"
   },
   "source": [
    "### Additional function definitions"
   ]
  },
  {
   "cell_type": "code",
   "execution_count": 136,
   "metadata": {
    "colab": {},
    "colab_type": "code",
    "id": "Ervfg9A8cxuZ"
   },
   "outputs": [],
   "source": [
    "def reconstruct_images(plot_id):\n",
    "    '''\n",
    "    Takes a plot ID and subsets the input pd.DataFrame to that plot ID\n",
    "    returns a (14, 14) array-like list with binary labels\n",
    "    # LAT, LONG, TREE\n",
    "    # 42.11, 1.02, 0\n",
    "    # 42.1102, 1.02, 1\n",
    "    \n",
    "    '''\n",
    "    subs = df[df['PLOT_ID'] == plot_id]\n",
    "    rows = []\n",
    "    lats = reversed(sorted(subs['LAT'].unique()))\n",
    "    for i, val in enumerate(lats):\n",
    "        subs_lat = subs[subs['LAT'] == val]\n",
    "        subs_lat = subs_lat.sort_values('LON', axis = 0)\n",
    "        rows.append(list(subs_lat['TREE']))\n",
    "    return rows"
   ]
  },
  {
   "cell_type": "markdown",
   "metadata": {
    "colab_type": "text",
    "id": "vGnHqn4Scxuf"
   },
   "source": [
    "### Data loading"
   ]
  },
  {
   "cell_type": "code",
   "execution_count": 137,
   "metadata": {
    "colab": {},
    "colab_type": "code",
    "id": "LPr7EkEocxuh"
   },
   "outputs": [],
   "source": [
    "source = 'test'\n",
    "sentinel_1 = True\n",
    "s2_path = \"../data/{}-super/\".format(source)\n",
    "s1_path = \"../data/{}-s1/\".format(source)\n",
    "csv_path = \"../data/{}-csv/\".format(source)\n",
    "output_path = \"../data/{}-processed/\".format(source)"
   ]
  },
  {
   "cell_type": "code",
   "execution_count": 138,
   "metadata": {
    "colab": {
     "base_uri": "https://localhost:8080/",
     "height": 238
    },
    "colab_type": "code",
    "executionInfo": {
     "elapsed": 1866,
     "status": "ok",
     "timestamp": 1585793219986,
     "user": {
      "displayName": "David Paolella",
      "photoUrl": "https://lh3.googleusercontent.com/a-/AOh14GhyvQ2T2w5gaFLerdln3UycYDOGbTDuyWch0kmG=s64",
      "userId": "06299863553633725725"
     },
     "user_tz": 240
    },
    "id": "UROR2LHncxum",
    "outputId": "1f1605b6-2817-4846-9ed2-26ed3ec01335"
   },
   "outputs": [
    {
     "name": "stdout",
     "output_type": "stream",
     "text": [
      "india-test.csv\n",
      "lac-north-test.csv\n",
      "cameroon-test.csv\n",
      "ghana-test.csv\n",
      "global-test.csv\n",
      "kenya-test.csv\n",
      "lac-south-test.csv\n",
      "ethiopia-test.csv\n",
      "ghana-test-large.csv\n",
      "africaeast-test.csv\n",
      "africawest-test.csv\n"
     ]
    }
   ],
   "source": [
    "# For either train or test data, loop through each plot and determine whether there is\n",
    "# labelled Y data for it -- returning one dataframe for the entire data set\n",
    "\n",
    "dfs = []\n",
    "for i in os.listdir(csv_path):\n",
    "    if \".csv\" in i:\n",
    "        print(i)\n",
    "        df = pd.read_csv(csv_path + i).drop('IMAGERY_TITLE', axis = 1)\n",
    "        df['country'] = i.split(\".\")[0]\n",
    "        dfs.append(df)\n",
    "\n",
    "for i in range(len(dfs)):\n",
    "    if \"PL_PLOTID\" in dfs[i].columns:\n",
    "            dfs[i] = dfs[i].drop(\"PL_PLOTID\", axis = 1)\n",
    "    if 'STACKINGPROFILEDG' in dfs[i].columns:\n",
    "        dfs[i] = dfs[i].drop('STACKINGPROFILEDG', axis = 1)\n",
    "    if 'IMAGERYYEARDG' in dfs[i].columns:\n",
    "        dfs[i] = dfs[i].drop('IMAGERYYEARDG', axis = 1)\n",
    "\n",
    "df = pd.concat(dfs, ignore_index = True)\n",
    "df = df.dropna(axis = 0)\n",
    "\n",
    "existing = [int(x[:-4]) for x in os.listdir(s2_path) if \".DS\" not in x]\n",
    "\n",
    "df = df[df['PLOT_ID'].isin(existing)]\n",
    "plot_ids = sorted(df['PLOT_ID'].unique())"
   ]
  },
  {
   "cell_type": "code",
   "execution_count": 139,
   "metadata": {
    "colab": {
     "base_uri": "https://localhost:8080/",
     "height": 488,
     "referenced_widgets": [
      "839a43ffdaa24ab0a15ba94117a05a34",
      "e1839928c3ed4ac9aa3e932f7df9db6f",
      "09806777f1e540febc0ab1585ee5cb6b",
      "8db78742b85746058c5125ab17479143",
      "1aaa064a59784e1f9352030df016c20d",
      "1a618e03211e4d9da7f066402afa9943",
      "526210b2335848278ca265bf80d1d142",
      "da3c014da428467398e9ee6588a64749"
     ]
    },
    "colab_type": "code",
    "executionInfo": {
     "elapsed": 306655,
     "status": "error",
     "timestamp": 1585793565944,
     "user": {
      "displayName": "David Paolella",
      "photoUrl": "https://lh3.googleusercontent.com/a-/AOh14GhyvQ2T2w5gaFLerdln3UycYDOGbTDuyWch0kmG=s64",
      "userId": "06299863553633725725"
     },
     "user_tz": 240
    },
    "id": "uql1oSrFcxuu",
    "outputId": "72dc4982-9dee-4e20-ccdc-701f20769f84"
   },
   "outputs": [
    {
     "data": {
      "application/vnd.jupyter.widget-view+json": {
       "model_id": "ed3ed417e50f48e4b8bc3c24edeedfdc",
       "version_major": 2,
       "version_minor": 0
      },
      "text/plain": [
       "HBox(children=(IntProgress(value=0, max=684), HTML(value='')))"
      ]
     },
     "metadata": {},
     "output_type": "display_data"
    },
    {
     "name": "stdout",
     "output_type": "stream",
     "text": [
      "\n",
      "Finished data loading\n"
     ]
    }
   ],
   "source": [
    "# Initiate empty lists to store the X and Y data in\n",
    "data_x, data_y, lengths = [], [], []\n",
    "    \n",
    "    \n",
    "countries = {}\n",
    "count = 0\n",
    "to_remove = []\n",
    "# Iterate over each plot\n",
    "for i in tnrange(len(plot_ids)):\n",
    "    skip = True if sentinel_1 else False\n",
    "    # Load the sentinel imagery\n",
    "    if (str(plot_ids[i]) + \".npy\")in os.listdir(s2_path):\n",
    "        country = df[df['PLOT_ID'] == plot_ids[i]]['country'].unique()\n",
    "        if str(country[0]) not in countries.keys():\n",
    "            countries[str(country[0])] = [count, count]\n",
    "        countries[str(country[0])][1] = count\n",
    "        x = np.load(s2_path + str(plot_ids[i]) + \".npy\")\n",
    "        if sentinel_1 and os.path.isfile(s1_path + str(plot_ids[i]) + \".npy\"):\n",
    "            skip = False\n",
    "            s1 = np.load(s1_path + str(plot_ids[i]) + \".npy\")\n",
    "            x = np.concatenate([x, s1], axis = -1)\n",
    "        count += 1\n",
    "    y = reconstruct_images(plot_ids[i])\n",
    "    if not skip:\n",
    "        lengths.append(x.shape[0])\n",
    "        data_x.append(x)\n",
    "        data_y.append(y)\n",
    "print(\"Finished data loading\")\n",
    "\n",
    "data_x = np.stack(data_x)\n",
    "data_y = np.stack(data_y)\n",
    "lengths = np.stack(lengths)"
   ]
  },
  {
   "cell_type": "markdown",
   "metadata": {
    "colab_type": "text",
    "id": "eYXJm7NMcxu4"
   },
   "source": [
    "### Data writing"
   ]
  },
  {
   "cell_type": "code",
   "execution_count": 140,
   "metadata": {
    "colab": {},
    "colab_type": "code",
    "id": "1s3NSzQ9cxu5"
   },
   "outputs": [
    {
     "name": "stdout",
     "output_type": "stream",
     "text": [
      "Writing test data\n"
     ]
    }
   ],
   "source": [
    "# This writes a (N_samples, time, width, height, channels) X data that is not standardized\n",
    "# Training 4500, 24, 16, 16, 16\n",
    "# and a (N_samples, width, height) Y data where the Y is a 0 / 1 binary tree presence\n",
    "# The X data is 16x16, and the Y data is 14x14 -- so the X data incorporates an extra boundary\n",
    "# pixel, which should be downsampled before output layer with a convolution layer with no padding\n",
    "\n",
    "# The X data channels are as below:\n",
    "# [B02,B03,B04,B05,B06,B07, B08, B8A,B11,B12, SLOPE, EVI, MSAVI2, Bare soil index,\n",
    "#    Sentinel 1 VV, Sentinel 1 VH]\n",
    "\n",
    "# GAN \n",
    "\n",
    "# Pretraining\n",
    "\n",
    "# Normalization\n",
    "#     layer norm,\n",
    "#     batch renorm\n",
    "#     batch norm, batch renormalization, instance normalization,\n",
    "#     self normalization - https://arxiv.org/abs/1706.02515\n",
    "\n",
    "# Loss functions\n",
    "#   - binary cross entropy\n",
    "#   - boundary loss\n",
    "#   - lovasz softmax\n",
    "#   - directly optimize dice score\n",
    "#   - hausdorff distance metrics\n",
    "#   - focal loss\n",
    "\n",
    "# Baseline ResNet, InceptionNet, XceptionNet\n",
    "\n",
    "\n",
    "if source == 'train':\n",
    "    np.save(output_path + \"data_x_l2a_processed.npy\", data_x)\n",
    "    np.save(output_path + \"data_y_l2a_processed.npy\", np.array(data_y))\n",
    "    np.save(output_path + \"length_l2a_processed.npy\", np.array(lengths))\n",
    "if source == 'test' or source == \"project\":\n",
    "    print(\"Writing test data\")\n",
    "    np.save(output_path + \"test_x_l2a_processed.npy\", data_x)\n",
    "    np.save(output_path + \"test_y_l2a_processed.npy\", data_y)\n",
    "    np.save(output_path + \"test_length_l2a_processed.npy\", lengths)"
   ]
  }
 ],
 "metadata": {
  "colab": {
   "name": "1-load-data-yale.ipynb",
   "provenance": []
  },
  "kernelspec": {
   "display_name": "Python 3",
   "language": "python",
   "name": "python3"
  },
  "language_info": {
   "codemirror_mode": {
    "name": "ipython",
    "version": 3
   },
   "file_extension": ".py",
   "mimetype": "text/x-python",
   "name": "python",
   "nbconvert_exporter": "python",
   "pygments_lexer": "ipython3",
   "version": "3.7.4"
  },
  "widgets": {
   "application/vnd.jupyter.widget-state+json": {
    "09806777f1e540febc0ab1585ee5cb6b": {
     "model_module": "@jupyter-widgets/controls",
     "model_name": "IntProgressModel",
     "state": {
      "_dom_classes": [],
      "_model_module": "@jupyter-widgets/controls",
      "_model_module_version": "1.5.0",
      "_model_name": "IntProgressModel",
      "_view_count": null,
      "_view_module": "@jupyter-widgets/controls",
      "_view_module_version": "1.5.0",
      "_view_name": "ProgressView",
      "bar_style": "success",
      "description": "100%",
      "description_tooltip": null,
      "layout": "IPY_MODEL_1a618e03211e4d9da7f066402afa9943",
      "max": 684,
      "min": 0,
      "orientation": "horizontal",
      "style": "IPY_MODEL_1aaa064a59784e1f9352030df016c20d",
      "value": 684
     }
    },
    "1a618e03211e4d9da7f066402afa9943": {
     "model_module": "@jupyter-widgets/base",
     "model_name": "LayoutModel",
     "state": {
      "_model_module": "@jupyter-widgets/base",
      "_model_module_version": "1.2.0",
      "_model_name": "LayoutModel",
      "_view_count": null,
      "_view_module": "@jupyter-widgets/base",
      "_view_module_version": "1.2.0",
      "_view_name": "LayoutView",
      "align_content": null,
      "align_items": null,
      "align_self": null,
      "border": null,
      "bottom": null,
      "display": null,
      "flex": null,
      "flex_flow": null,
      "grid_area": null,
      "grid_auto_columns": null,
      "grid_auto_flow": null,
      "grid_auto_rows": null,
      "grid_column": null,
      "grid_gap": null,
      "grid_row": null,
      "grid_template_areas": null,
      "grid_template_columns": null,
      "grid_template_rows": null,
      "height": null,
      "justify_content": null,
      "justify_items": null,
      "left": null,
      "margin": null,
      "max_height": null,
      "max_width": null,
      "min_height": null,
      "min_width": null,
      "object_fit": null,
      "object_position": null,
      "order": null,
      "overflow": null,
      "overflow_x": null,
      "overflow_y": null,
      "padding": null,
      "right": null,
      "top": null,
      "visibility": null,
      "width": null
     }
    },
    "1aaa064a59784e1f9352030df016c20d": {
     "model_module": "@jupyter-widgets/controls",
     "model_name": "ProgressStyleModel",
     "state": {
      "_model_module": "@jupyter-widgets/controls",
      "_model_module_version": "1.5.0",
      "_model_name": "ProgressStyleModel",
      "_view_count": null,
      "_view_module": "@jupyter-widgets/base",
      "_view_module_version": "1.2.0",
      "_view_name": "StyleView",
      "bar_color": null,
      "description_width": "initial"
     }
    },
    "526210b2335848278ca265bf80d1d142": {
     "model_module": "@jupyter-widgets/controls",
     "model_name": "DescriptionStyleModel",
     "state": {
      "_model_module": "@jupyter-widgets/controls",
      "_model_module_version": "1.5.0",
      "_model_name": "DescriptionStyleModel",
      "_view_count": null,
      "_view_module": "@jupyter-widgets/base",
      "_view_module_version": "1.2.0",
      "_view_name": "StyleView",
      "description_width": ""
     }
    },
    "839a43ffdaa24ab0a15ba94117a05a34": {
     "model_module": "@jupyter-widgets/controls",
     "model_name": "HBoxModel",
     "state": {
      "_dom_classes": [],
      "_model_module": "@jupyter-widgets/controls",
      "_model_module_version": "1.5.0",
      "_model_name": "HBoxModel",
      "_view_count": null,
      "_view_module": "@jupyter-widgets/controls",
      "_view_module_version": "1.5.0",
      "_view_name": "HBoxView",
      "box_style": "",
      "children": [
       "IPY_MODEL_09806777f1e540febc0ab1585ee5cb6b",
       "IPY_MODEL_8db78742b85746058c5125ab17479143"
      ],
      "layout": "IPY_MODEL_e1839928c3ed4ac9aa3e932f7df9db6f"
     }
    },
    "8db78742b85746058c5125ab17479143": {
     "model_module": "@jupyter-widgets/controls",
     "model_name": "HTMLModel",
     "state": {
      "_dom_classes": [],
      "_model_module": "@jupyter-widgets/controls",
      "_model_module_version": "1.5.0",
      "_model_name": "HTMLModel",
      "_view_count": null,
      "_view_module": "@jupyter-widgets/controls",
      "_view_module_version": "1.5.0",
      "_view_name": "HTMLView",
      "description": "",
      "description_tooltip": null,
      "layout": "IPY_MODEL_da3c014da428467398e9ee6588a64749",
      "placeholder": "​",
      "style": "IPY_MODEL_526210b2335848278ca265bf80d1d142",
      "value": " 684/684 [05:05&lt;00:00,  2.24it/s]"
     }
    },
    "da3c014da428467398e9ee6588a64749": {
     "model_module": "@jupyter-widgets/base",
     "model_name": "LayoutModel",
     "state": {
      "_model_module": "@jupyter-widgets/base",
      "_model_module_version": "1.2.0",
      "_model_name": "LayoutModel",
      "_view_count": null,
      "_view_module": "@jupyter-widgets/base",
      "_view_module_version": "1.2.0",
      "_view_name": "LayoutView",
      "align_content": null,
      "align_items": null,
      "align_self": null,
      "border": null,
      "bottom": null,
      "display": null,
      "flex": null,
      "flex_flow": null,
      "grid_area": null,
      "grid_auto_columns": null,
      "grid_auto_flow": null,
      "grid_auto_rows": null,
      "grid_column": null,
      "grid_gap": null,
      "grid_row": null,
      "grid_template_areas": null,
      "grid_template_columns": null,
      "grid_template_rows": null,
      "height": null,
      "justify_content": null,
      "justify_items": null,
      "left": null,
      "margin": null,
      "max_height": null,
      "max_width": null,
      "min_height": null,
      "min_width": null,
      "object_fit": null,
      "object_position": null,
      "order": null,
      "overflow": null,
      "overflow_x": null,
      "overflow_y": null,
      "padding": null,
      "right": null,
      "top": null,
      "visibility": null,
      "width": null
     }
    },
    "e1839928c3ed4ac9aa3e932f7df9db6f": {
     "model_module": "@jupyter-widgets/base",
     "model_name": "LayoutModel",
     "state": {
      "_model_module": "@jupyter-widgets/base",
      "_model_module_version": "1.2.0",
      "_model_name": "LayoutModel",
      "_view_count": null,
      "_view_module": "@jupyter-widgets/base",
      "_view_module_version": "1.2.0",
      "_view_name": "LayoutView",
      "align_content": null,
      "align_items": null,
      "align_self": null,
      "border": null,
      "bottom": null,
      "display": null,
      "flex": null,
      "flex_flow": null,
      "grid_area": null,
      "grid_auto_columns": null,
      "grid_auto_flow": null,
      "grid_auto_rows": null,
      "grid_column": null,
      "grid_gap": null,
      "grid_row": null,
      "grid_template_areas": null,
      "grid_template_columns": null,
      "grid_template_rows": null,
      "height": null,
      "justify_content": null,
      "justify_items": null,
      "left": null,
      "margin": null,
      "max_height": null,
      "max_width": null,
      "min_height": null,
      "min_width": null,
      "object_fit": null,
      "object_position": null,
      "order": null,
      "overflow": null,
      "overflow_x": null,
      "overflow_y": null,
      "padding": null,
      "right": null,
      "top": null,
      "visibility": null,
      "width": null
     }
    }
   }
  }
 },
 "nbformat": 4,
 "nbformat_minor": 1
}
